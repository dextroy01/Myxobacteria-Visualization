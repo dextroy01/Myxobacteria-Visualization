{
 "cells": [
  {
   "cell_type": "markdown",
   "metadata": {},
   "source": [
    "2/11/2025\n",
    "\n",
    "We want to simulate varying terrain, lets says a region contains a bump. Velocity is lower and the bacteria do not diffuse as much on said bump. We want to simmulate different variations of the domain. We want to know if the bacteria will still make rippling patterns in varying environments. For now we're just doing high and low. Two types of regions in any domain. Aka piecewise constant.(each piece is constant).\n",
    "\n",
    "1) Create a striped domain\n",
    "2) Create a checkerboard domain\n",
    "3) Create a domain with partial blockers \n",
    "\n",
    "Next we want to see if we can simmulate the domain using continuous functions\n",
    "\n",
    "1) Create a domain that goes up and down based on a sin function \n",
    "2) Create a domain that varys completely randomly like dirt"
   ]
  }
 ],
 "metadata": {
  "language_info": {
   "name": "python"
  }
 },
 "nbformat": 4,
 "nbformat_minor": 2
}
